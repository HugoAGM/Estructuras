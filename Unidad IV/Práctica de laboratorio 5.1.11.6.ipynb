{
 "cells": [
  {
   "cell_type": "code",
   "execution_count": 6,
   "metadata": {},
   "outputs": [
    {
     "name": "stdout",
     "output_type": "stream",
     "text": [
      "¿Qué mensaje quieres encriptar? > abcxyzABCxyz 123\n",
      "Elige un valor de cambio entre 1 y 25 > 2\n",
      "Tu mensaje encriptado es: cdezabCDEzab 123\n"
     ]
    }
   ],
   "source": [
    "import string\n",
    "# Se obtiene el mensaje del usuario a encriptar\n",
    "texto = input(\"¿Qué mensaje quieres encriptar? > \")\n",
    "\n",
    "valido = False\n",
    "# Ciclo para obligar al usuario a ingresar un valor válido (entre 1 y 25)\n",
    "while valido == False:\n",
    "    # Se pide al usuario el valor de cambio\n",
    "    n = int(input(\"Elige un valor de cambio entre 1 y 25 > \"))\n",
    "    if n <= 25:\n",
    "        valido = True\n",
    "\n",
    "# Abecedario a utilizar en el cifrado César\n",
    "abecedario = list(string.ascii_lowercase + string.ascii_letters)\n",
    "\n",
    "# Variable para guardar mensaje encriptado\n",
    "encriptar = \"\"\n",
    "\n",
    "# Se itera por cada letra del mensaje\n",
    "for l in texto:\n",
    "    # Si la letra está en el abecedario, se reemplaza\n",
    "    if l in abecedario:\n",
    "        pos_letra = abecedario.index(l)\n",
    "        # Se suma para moverse a la derecha del abecedario\n",
    "        nueva_pos = (pos_letra + n) % len(abecedario)\n",
    "        encriptar+= abecedario[nueva_pos]\n",
    "    else:\n",
    "        # Dejar intactos los carácteres extra que no formen parte del abecedario\n",
    "        encriptar+= l\n",
    "\n",
    "print(\"Tu mensaje encriptado es:\", encriptar)"
   ]
  },
  {
   "cell_type": "code",
   "execution_count": null,
   "metadata": {},
   "outputs": [],
   "source": []
  }
 ],
 "metadata": {
  "kernelspec": {
   "display_name": "Python 3",
   "language": "python",
   "name": "python3"
  },
  "language_info": {
   "codemirror_mode": {
    "name": "ipython",
    "version": 3
   },
   "file_extension": ".py",
   "mimetype": "text/x-python",
   "name": "python",
   "nbconvert_exporter": "python",
   "pygments_lexer": "ipython3",
   "version": "3.8.3"
  }
 },
 "nbformat": 4,
 "nbformat_minor": 4
}
